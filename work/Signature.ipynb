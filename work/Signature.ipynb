{
 "cells": [
  {
   "cell_type": "code",
   "execution_count": 17,
   "metadata": {},
   "outputs": [],
   "source": [
    "from fastecdsa.curve import secp256k1 as curve\n",
    "from fastecdsa import keys\n",
    "from mod import Mod\n",
    "import hashlib"
   ]
  },
  {
   "cell_type": "code",
   "execution_count": 18,
   "metadata": {},
   "outputs": [],
   "source": [
    "# every message needs to be hashed into a number\n",
    "def encryptstring(hashstr):\n",
    "    return int(hashlib.sha256(hashstr.encode()).hexdigest(),16)"
   ]
  },
  {
   "cell_type": "code",
   "execution_count": 19,
   "metadata": {},
   "outputs": [],
   "source": [
    "# The private key is a random number from [ 1 , p − 1 ] where\n",
    "# p is the order of the underlying Galoisfield\n",
    "privatekey = keys.gen_private_key(curve)\n",
    "\n",
    "# The publickey is\n",
    "publickey = curve.G * privatekey"
   ]
  },
  {
   "cell_type": "code",
   "execution_count": 20,
   "metadata": {},
   "outputs": [],
   "source": [
    "# There are n solutions on the elliptic curve\n",
    "# including the point at ”infinity”\n",
    "n = curve.q\n",
    "\n",
    "# We send the clear message . . .\n",
    "message = \"I love this lecture\"\n"
   ]
  },
  {
   "cell_type": "code",
   "execution_count": 30,
   "metadata": {},
   "outputs": [
    {
     "name": "stdout",
     "output_type": "stream",
     "text": [
      "<class 'int'>\n"
     ]
    }
   ],
   "source": [
    "# nonce\n",
    "i = keys.gen_private_key(curve)\n",
    "print(type(i))\n",
    "# nonce on elliptic curve\n",
    "P = curve.G * i"
   ]
  },
  {
   "cell_type": "code",
   "execution_count": 25,
   "metadata": {},
   "outputs": [],
   "source": [
    "# compute the signature\n",
    "r = Mod(P.x, n)\n",
    "inv_i = Mod(i, n).inverse\n",
    "\n",
    "s = (inv_i*( encryptstring(message)+r* privatekey))._value"
   ]
  },
  {
   "cell_type": "code",
   "execution_count": 29,
   "metadata": {},
   "outputs": [
    {
     "name": "stdout",
     "output_type": "stream",
     "text": [
      "<class 'mod.Mod'>\n",
      "<class 'mod.Mod'>\n"
     ]
    }
   ],
   "source": [
    "# The sender transmits (r,s) , the clear message and his public key\n",
    "# s depends on the private key and the hashcode of the message.\n",
    "# However it is not possible to extract the private key from s\n",
    "\n",
    "# check the signature\n",
    "w = Mod(s,n).inverse\n",
    "u1 = encryptstring(message)*w\n",
    "u2 = r*w\n"
   ]
  },
  {
   "cell_type": "code",
   "execution_count": 31,
   "metadata": {},
   "outputs": [
    {
     "data": {
      "text/plain": [
       "True"
      ]
     },
     "execution_count": 31,
     "metadata": {},
     "output_type": "execute_result"
    }
   ],
   "source": [
    "# addition of two residue classes and multiplication with Point\n",
    "(curve.G*u1._value + publickey*u2._value).x == r"
   ]
  },
  {
   "cell_type": "code",
   "execution_count": null,
   "metadata": {},
   "outputs": [],
   "source": []
  }
 ],
 "metadata": {
  "kernelspec": {
   "display_name": "Python 3",
   "language": "python",
   "name": "python3"
  },
  "language_info": {
   "codemirror_mode": {
    "name": "ipython",
    "version": 3
   },
   "file_extension": ".py",
   "mimetype": "text/x-python",
   "name": "python",
   "nbconvert_exporter": "python",
   "pygments_lexer": "ipython3",
   "version": "3.8.5"
  }
 },
 "nbformat": 4,
 "nbformat_minor": 4
}
