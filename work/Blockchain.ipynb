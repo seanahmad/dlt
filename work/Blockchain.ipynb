{
 "cells": [
  {
   "cell_type": "code",
   "execution_count": 3,
   "metadata": {},
   "outputs": [],
   "source": [
    "import json\n",
    "from hashlib import sha256\n",
    "\n",
    "class Block(object):\n",
    "    def __init__(self, message, time, reference=None):\n",
    "        self.message = message\n",
    "        self.time = time\n",
    "        self.reference = reference\n",
    "\n",
    "    @property\n",
    "    def hash(self):\n",
    "        x = {\"message\": self.message, \"time\": self.time, \n",
    "             \"reference\": self.reference}\n",
    "        return sha256(json.dumps(x).encode()).hexdigest()\n",
    "\n",
    "\n",
    "class Chain(object):\n",
    "    def __init__(self):\n",
    "        self.__chain = []\n",
    "\n",
    "    def append(self, message, time):\n",
    "        # append a block to the chain\n",
    "\n",
    "        # if there is at least one block in the chain\n",
    "        if len(self.__chain) >= 1:\n",
    "            # compute the hash digest of the last block\n",
    "            reference = self.__chain[-1].hash\n",
    "        else:\n",
    "            reference = None\n",
    "\n",
    "        # compute the Block\n",
    "        block = Block(message=message, time=time, reference=reference)\n",
    "    \n",
    "        # append it to the chain\n",
    "        self.__chain.append(block)\n",
    "\n",
    "    def __getitem__(self, item):\n",
    "        return self.__chain[item]\n",
    "\n",
    "    @property\n",
    "    def valid(self):\n",
    "        for a,b in zip(self.__chain[:-1], self.__chain[1:]):\n",
    "            if a.hash != b.reference:\n",
    "                return False\n",
    "\n",
    "        return True"
   ]
  },
  {
   "cell_type": "code",
   "execution_count": 4,
   "metadata": {},
   "outputs": [],
   "source": [
    "chain = Chain()\n",
    "chain.append(message=\"A\", time=1)\n",
    "chain.append(message=\"B\", time=2)\n",
    "chain.append(message=\"C\", time=3)\n",
    "chain.append(message=\"D\", time=4)\n",
    "\n",
    "# the chain is valid because the recomputed hash code\n",
    "# for block n is matching the reference in block n+1\n",
    "assert chain.valid\n",
    "\n",
    "# we chain the message of the 3rd block \n",
    "# and therefore the hash code for Block 3\n",
    "# is not matching the reference in Block 4\n",
    "chain[2].message = \"Thomas was here\"\n",
    "assert not chain.valid"
   ]
  },
  {
   "cell_type": "code",
   "execution_count": null,
   "metadata": {},
   "outputs": [],
   "source": []
  }
 ],
 "metadata": {
  "kernelspec": {
   "display_name": "Python 3",
   "language": "python",
   "name": "python3"
  },
  "language_info": {
   "codemirror_mode": {
    "name": "ipython",
    "version": 3
   },
   "file_extension": ".py",
   "mimetype": "text/x-python",
   "name": "python",
   "nbconvert_exporter": "python",
   "pygments_lexer": "ipython3",
   "version": "3.8.5"
  }
 },
 "nbformat": 4,
 "nbformat_minor": 4
}
