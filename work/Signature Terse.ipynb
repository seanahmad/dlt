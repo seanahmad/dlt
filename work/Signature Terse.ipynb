{
 "cells": [
  {
   "cell_type": "code",
   "execution_count": 5,
   "metadata": {},
   "outputs": [
    {
     "name": "stdout",
     "output_type": "stream",
     "text": [
      "68200218139091760811286756188847526570607572063905666487333959962707313800055\n",
      "49139859198832457500014298480808132077188651640364975463505296084960405959412\n"
     ]
    }
   ],
   "source": [
    "from fastecdsa.curve import secp256k1 as curve\n",
    "import fastecdsa.keys as keys\n",
    "from hashlib import sha256\n",
    "from fastecdsa import ecdsa\n",
    "\n",
    "private_key = keys.gen_private_key(curve)\n",
    "public_key = keys.get_public_key(private_key, curve)\n",
    "\n",
    "# We send the clear message...\n",
    "message = \"I love this lecture\"\n",
    "\n",
    "# standard signature, returns two integers\n",
    "r, s = ecdsa.sign(message, private_key, curve, hashfunc=sha256)\n",
    "print(r)\n",
    "print(s)\n",
    "\n",
    "# should return True as the signature we just generated is valid.\n",
    "valid = ecdsa.verify((r, s), message, public_key, curve, hashfunc=sha256)\n",
    "assert valid"
   ]
  },
  {
   "cell_type": "code",
   "execution_count": null,
   "metadata": {},
   "outputs": [],
   "source": []
  }
 ],
 "metadata": {
  "kernelspec": {
   "display_name": "Python 3",
   "language": "python",
   "name": "python3"
  },
  "language_info": {
   "codemirror_mode": {
    "name": "ipython",
    "version": 3
   },
   "file_extension": ".py",
   "mimetype": "text/x-python",
   "name": "python",
   "nbconvert_exporter": "python",
   "pygments_lexer": "ipython3",
   "version": "3.8.5"
  }
 },
 "nbformat": 4,
 "nbformat_minor": 4
}
