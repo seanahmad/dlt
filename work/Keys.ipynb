{
 "cells": [
  {
   "cell_type": "code",
   "execution_count": 1,
   "metadata": {},
   "outputs": [],
   "source": [
    "from fastecdsa import keys, curve\n",
    "from fastecdsa.point import Point"
   ]
  },
  {
   "cell_type": "code",
   "execution_count": 7,
   "metadata": {},
   "outputs": [],
   "source": [
    "# generate a private key!\n",
    "private_key = keys.gen_private_key(curve.P521)"
   ]
  },
  {
   "cell_type": "code",
   "execution_count": 8,
   "metadata": {},
   "outputs": [],
   "source": [
    "public_key = keys.get_public_key(private_key, curve.P521)"
   ]
  },
  {
   "cell_type": "code",
   "execution_count": 5,
   "metadata": {},
   "outputs": [
    {
     "data": {
      "text/plain": [
       "5725526689495247444734664136097378591547875843184297015869261051965232501007189837802661295851704790287418620661627343323436673588738142968176536044493560183"
      ]
     },
     "execution_count": 5,
     "metadata": {},
     "output_type": "execute_result"
    }
   ],
   "source": [
    "# The private key is an integer\n",
    "private_key"
   ]
  },
  {
   "cell_type": "code",
   "execution_count": 9,
   "metadata": {},
   "outputs": [
    {
     "data": {
      "text/plain": [
       "X: 0x9092b63e716bd1a2e480b75f471d4924b0ae3d5d0827d8ecd63fa490303025336d4ce72e44901fc9a39c4d0840028aaeba4321673c3981353de7240227e3c98ac0\n",
       "Y: 0x140876f97e6152b5567e172c131dd5e4227e49ba7f48da60972419b8eff38e17af53ac942354bb1ba91f6360ad8ef7185ac4e4b29192bca136465c24905abfa25c6\n",
       "(On curve <P521>)"
      ]
     },
     "execution_count": 9,
     "metadata": {},
     "output_type": "execute_result"
    }
   ],
   "source": [
    "# The public key is a point\n",
    "public_key"
   ]
  },
  {
   "cell_type": "code",
   "execution_count": 12,
   "metadata": {},
   "outputs": [
    {
     "data": {
      "text/plain": [
       "X: 0x9092b63e716bd1a2e480b75f471d4924b0ae3d5d0827d8ecd63fa490303025336d4ce72e44901fc9a39c4d0840028aaeba4321673c3981353de7240227e3c98ac0\n",
       "Y: 0x140876f97e6152b5567e172c131dd5e4227e49ba7f48da60972419b8eff38e17af53ac942354bb1ba91f6360ad8ef7185ac4e4b29192bca136465c24905abfa25c6\n",
       "(On curve <P521>)"
      ]
     },
     "execution_count": 12,
     "metadata": {},
     "output_type": "execute_result"
    }
   ],
   "source": [
    "# The public key is the nth of an elliptic curve where n is the private key\n",
    "private_key * curve.P521.G"
   ]
  },
  {
   "cell_type": "code",
   "execution_count": 13,
   "metadata": {},
   "outputs": [],
   "source": [
    "# Given this public key you can not compute the private key!"
   ]
  },
  {
   "cell_type": "code",
   "execution_count": null,
   "metadata": {},
   "outputs": [],
   "source": []
  }
 ],
 "metadata": {
  "kernelspec": {
   "display_name": "Python 3",
   "language": "python",
   "name": "python3"
  },
  "language_info": {
   "codemirror_mode": {
    "name": "ipython",
    "version": 3
   },
   "file_extension": ".py",
   "mimetype": "text/x-python",
   "name": "python",
   "nbconvert_exporter": "python",
   "pygments_lexer": "ipython3",
   "version": "3.8.5"
  }
 },
 "nbformat": 4,
 "nbformat_minor": 4
}
