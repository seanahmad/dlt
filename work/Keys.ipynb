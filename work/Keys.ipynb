{
 "cells": [
  {
   "cell_type": "code",
   "execution_count": 1,
   "metadata": {},
   "outputs": [],
   "source": [
    "from fastecdsa import keys, curve\n",
    "from fastecdsa.point import Point"
   ]
  },
  {
   "cell_type": "code",
   "execution_count": 2,
   "metadata": {},
   "outputs": [],
   "source": [
    "# generate a private key!\n",
    "private_key = keys.gen_private_key(curve.P521)"
   ]
  },
  {
   "cell_type": "code",
   "execution_count": 3,
   "metadata": {},
   "outputs": [],
   "source": [
    "public_key = keys.get_public_key(private_key, curve.P521)"
   ]
  },
  {
   "cell_type": "code",
   "execution_count": 4,
   "metadata": {},
   "outputs": [
    {
     "data": {
      "text/plain": [
       "3005121227810055663317135321970082165591065793165614031252876786076360970092102792584651961229781297441750877900406908989498020428565023946536042867653907983"
      ]
     },
     "execution_count": 4,
     "metadata": {},
     "output_type": "execute_result"
    }
   ],
   "source": [
    "# The private key is an integer\n",
    "private_key"
   ]
  },
  {
   "cell_type": "code",
   "execution_count": 5,
   "metadata": {},
   "outputs": [
    {
     "data": {
      "text/plain": [
       "X: 0x663672cec229b15f5e4c1e05fd87dfed4c1f501dac3008e04def1b762c176c255bf004455c7270239dfd1eb99e98b144b9ee2d23282a04f4095e7c8cbfdbd5f4b9\n",
       "Y: 0x167c08b247c51d98f7f2562a4a6d718eba185983d92e7278d31376006832a67cd7187d0a2e0dc974d8da808e5fefade8b04418fc457dfe0aff73ec3ce8ec86018c5\n",
       "(On curve <P521>)"
      ]
     },
     "execution_count": 5,
     "metadata": {},
     "output_type": "execute_result"
    }
   ],
   "source": [
    "# The public key is a point\n",
    "public_key"
   ]
  },
  {
   "cell_type": "code",
   "execution_count": 6,
   "metadata": {},
   "outputs": [
    {
     "data": {
      "text/plain": [
       "X: 0x663672cec229b15f5e4c1e05fd87dfed4c1f501dac3008e04def1b762c176c255bf004455c7270239dfd1eb99e98b144b9ee2d23282a04f4095e7c8cbfdbd5f4b9\n",
       "Y: 0x167c08b247c51d98f7f2562a4a6d718eba185983d92e7278d31376006832a67cd7187d0a2e0dc974d8da808e5fefade8b04418fc457dfe0aff73ec3ce8ec86018c5\n",
       "(On curve <P521>)"
      ]
     },
     "execution_count": 6,
     "metadata": {},
     "output_type": "execute_result"
    }
   ],
   "source": [
    "# The public key is the nth of an elliptic curve where n is the private key\n",
    "private_key * curve.P521.G"
   ]
  },
  {
   "cell_type": "code",
   "execution_count": 7,
   "metadata": {},
   "outputs": [],
   "source": [
    "# Given this public key you can not compute the private key!"
   ]
  },
  {
   "cell_type": "code",
   "execution_count": null,
   "metadata": {},
   "outputs": [],
   "source": []
  }
 ],
 "metadata": {
  "kernelspec": {
   "display_name": "Python 3",
   "language": "python",
   "name": "python3"
  },
  "language_info": {
   "codemirror_mode": {
    "name": "ipython",
    "version": 3
   },
   "file_extension": ".py",
   "mimetype": "text/x-python",
   "name": "python",
   "nbconvert_exporter": "python",
   "pygments_lexer": "ipython3",
   "version": "3.8.5"
  }
 },
 "nbformat": 4,
 "nbformat_minor": 4
}
